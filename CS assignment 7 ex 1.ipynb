{
 "cells": [
  {
   "cell_type": "markdown",
   "metadata": {},
   "source": [
    "Dmitry Mikhaylov dimami@ya.ru"
   ]
  },
  {
   "cell_type": "markdown",
   "metadata": {},
   "source": [
    "# Exercise 1"
   ]
  },
  {
   "cell_type": "markdown",
   "metadata": {},
   "source": [
    "|         | log2(n)  | s(n)    |  5         | 2^n    |1/n| n       | e^n    |\n",
    "| ---     | ---      | ---     |---         |---     |---|---      | ---    | \n",
    "| log2(n) |  Θ       | -       | ω          | o-small| ω | o-small |o-small | \n",
    "| s(n)    |  −       | Θ       | −          | o-small| ω | O-big   |o-small |\n",
    "| 5       |  o-small | −       | Θ          | o-small| ω | o-small |o-small |        \n",
    "| 2^n     |  ω       | ω       | ω          | Θ      | ω | ω       |o-small |        \n",
    "| 1/n     |  o-small | o-small | o-small    | o-small| Θ | o-small |o-small |        \n",
    "| n       |  ω       | Ω       | ω          | o-small| ω | Θ       |o-small |        \n",
    "| e^n     |  ω       | ω       | ω          | ω      | ω | ω       |  Θ     |"
   ]
  },
  {
   "cell_type": "markdown",
   "metadata": {},
   "source": [
    "Ω asymptotic lower bound\n",
    "\n",
    "ω lower bound not asymptotically tight\n",
    "\n",
    "O asymptotic upper bound\n",
    "\n",
    "o upper bound not asymptotically tight\n",
    "\n",
    "Θ between\n",
    "\n",
    "− if there is no relationship between functions."
   ]
  },
  {
   "cell_type": "code",
   "execution_count": null,
   "metadata": {},
   "outputs": [],
   "source": []
  },
  {
   "cell_type": "code",
   "execution_count": null,
   "metadata": {},
   "outputs": [],
   "source": []
  }
 ],
 "metadata": {
  "kernelspec": {
   "display_name": "Python 3",
   "language": "python",
   "name": "python3"
  },
  "language_info": {
   "codemirror_mode": {
    "name": "ipython",
    "version": 3
   },
   "file_extension": ".py",
   "mimetype": "text/x-python",
   "name": "python",
   "nbconvert_exporter": "python",
   "pygments_lexer": "ipython3",
   "version": "3.8.3"
  }
 },
 "nbformat": 4,
 "nbformat_minor": 4
}
